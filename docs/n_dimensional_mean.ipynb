{
 "cells": [
  {
   "cell_type": "markdown",
   "metadata": {},
   "source": [
    "# Computing the n-dimensional mean of a dataset"
   ]
  },
  {
   "cell_type": "markdown",
   "metadata": {},
   "source": [
    "## Problem: We are looking to compute outliers among high dimensional data.\n",
    "For that, we need to find useful and appropriate implementations of algorithms that are useful for >1 dimensional data. As of now, it seems such as that the OGK algo is best for really high dimension >10 <100 but not as efficient for smaller dimension. Therefore we will make use of classic zscore for two dimensional data "
   ]
  }
 ],
 "metadata": {
  "language_info": {
   "name": "python"
  },
  "orig_nbformat": 4
 },
 "nbformat": 4,
 "nbformat_minor": 2
}
